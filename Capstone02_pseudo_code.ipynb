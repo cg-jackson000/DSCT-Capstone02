{
 "cells": [
  {
   "cell_type": "code",
   "execution_count": 5,
   "metadata": {},
   "outputs": [],
   "source": [
    "#imports\n",
    "#Do I need seaborn, matplotlib, pandas, os, matlab, pickles?\n",
    "import pandas as pd\n",
    "import matplotlib.pyplot as plt\n",
    "import seaborn as sns\n",
    "import os\n",
    "\n",
    "#from library.sb_utils import save_file\n",
    "#I don't actually understand exactly how this line works, \n",
    "#whether it is necessary, and what I need to avoid the error 'ModuleNotFoundError'"
   ]
  },
  {
   "cell_type": "code",
   "execution_count": 6,
   "metadata": {},
   "outputs": [
    {
     "ename": "FileNotFoundError",
     "evalue": "[Errno 2] No such file or directory: './water_potability.csv'",
     "output_type": "error",
     "traceback": [
      "\u001b[0;31m---------------------------------------------------------------------------\u001b[0m",
      "\u001b[0;31mFileNotFoundError\u001b[0m                         Traceback (most recent call last)",
      "\u001b[0;32m<ipython-input-6-514aeb50a162>\u001b[0m in \u001b[0;36m<module>\u001b[0;34m\u001b[0m\n\u001b[1;32m      1\u001b[0m \u001b[0;31m# original site for data https://www.kaggle.com/adityakadiwal/water-potability\u001b[0m\u001b[0;34m\u001b[0m\u001b[0;34m\u001b[0m\u001b[0;34m\u001b[0m\u001b[0m\n\u001b[1;32m      2\u001b[0m \u001b[0;31m#import the csv file of data, assign it to a variable: water_potability_data\u001b[0m\u001b[0;34m\u001b[0m\u001b[0;34m\u001b[0m\u001b[0;34m\u001b[0m\u001b[0m\n\u001b[0;32m----> 3\u001b[0;31m \u001b[0mwater_data\u001b[0m \u001b[0;34m=\u001b[0m \u001b[0mpd\u001b[0m\u001b[0;34m.\u001b[0m\u001b[0mread_csv\u001b[0m\u001b[0;34m(\u001b[0m\u001b[0;34m'./water_potability.csv'\u001b[0m\u001b[0;34m)\u001b[0m\u001b[0;34m\u001b[0m\u001b[0;34m\u001b[0m\u001b[0m\n\u001b[0m",
      "\u001b[0;32m~/opt/anaconda3/lib/python3.8/site-packages/pandas/io/parsers.py\u001b[0m in \u001b[0;36mread_csv\u001b[0;34m(filepath_or_buffer, sep, delimiter, header, names, index_col, usecols, squeeze, prefix, mangle_dupe_cols, dtype, engine, converters, true_values, false_values, skipinitialspace, skiprows, skipfooter, nrows, na_values, keep_default_na, na_filter, verbose, skip_blank_lines, parse_dates, infer_datetime_format, keep_date_col, date_parser, dayfirst, cache_dates, iterator, chunksize, compression, thousands, decimal, lineterminator, quotechar, quoting, doublequote, escapechar, comment, encoding, dialect, error_bad_lines, warn_bad_lines, delim_whitespace, low_memory, memory_map, float_precision)\u001b[0m\n\u001b[1;32m    684\u001b[0m     )\n\u001b[1;32m    685\u001b[0m \u001b[0;34m\u001b[0m\u001b[0m\n\u001b[0;32m--> 686\u001b[0;31m     \u001b[0;32mreturn\u001b[0m \u001b[0m_read\u001b[0m\u001b[0;34m(\u001b[0m\u001b[0mfilepath_or_buffer\u001b[0m\u001b[0;34m,\u001b[0m \u001b[0mkwds\u001b[0m\u001b[0;34m)\u001b[0m\u001b[0;34m\u001b[0m\u001b[0;34m\u001b[0m\u001b[0m\n\u001b[0m\u001b[1;32m    687\u001b[0m \u001b[0;34m\u001b[0m\u001b[0m\n\u001b[1;32m    688\u001b[0m \u001b[0;34m\u001b[0m\u001b[0m\n",
      "\u001b[0;32m~/opt/anaconda3/lib/python3.8/site-packages/pandas/io/parsers.py\u001b[0m in \u001b[0;36m_read\u001b[0;34m(filepath_or_buffer, kwds)\u001b[0m\n\u001b[1;32m    450\u001b[0m \u001b[0;34m\u001b[0m\u001b[0m\n\u001b[1;32m    451\u001b[0m     \u001b[0;31m# Create the parser.\u001b[0m\u001b[0;34m\u001b[0m\u001b[0;34m\u001b[0m\u001b[0;34m\u001b[0m\u001b[0m\n\u001b[0;32m--> 452\u001b[0;31m     \u001b[0mparser\u001b[0m \u001b[0;34m=\u001b[0m \u001b[0mTextFileReader\u001b[0m\u001b[0;34m(\u001b[0m\u001b[0mfp_or_buf\u001b[0m\u001b[0;34m,\u001b[0m \u001b[0;34m**\u001b[0m\u001b[0mkwds\u001b[0m\u001b[0;34m)\u001b[0m\u001b[0;34m\u001b[0m\u001b[0;34m\u001b[0m\u001b[0m\n\u001b[0m\u001b[1;32m    453\u001b[0m \u001b[0;34m\u001b[0m\u001b[0m\n\u001b[1;32m    454\u001b[0m     \u001b[0;32mif\u001b[0m \u001b[0mchunksize\u001b[0m \u001b[0;32mor\u001b[0m \u001b[0miterator\u001b[0m\u001b[0;34m:\u001b[0m\u001b[0;34m\u001b[0m\u001b[0;34m\u001b[0m\u001b[0m\n",
      "\u001b[0;32m~/opt/anaconda3/lib/python3.8/site-packages/pandas/io/parsers.py\u001b[0m in \u001b[0;36m__init__\u001b[0;34m(self, f, engine, **kwds)\u001b[0m\n\u001b[1;32m    944\u001b[0m             \u001b[0mself\u001b[0m\u001b[0;34m.\u001b[0m\u001b[0moptions\u001b[0m\u001b[0;34m[\u001b[0m\u001b[0;34m\"has_index_names\"\u001b[0m\u001b[0;34m]\u001b[0m \u001b[0;34m=\u001b[0m \u001b[0mkwds\u001b[0m\u001b[0;34m[\u001b[0m\u001b[0;34m\"has_index_names\"\u001b[0m\u001b[0;34m]\u001b[0m\u001b[0;34m\u001b[0m\u001b[0;34m\u001b[0m\u001b[0m\n\u001b[1;32m    945\u001b[0m \u001b[0;34m\u001b[0m\u001b[0m\n\u001b[0;32m--> 946\u001b[0;31m         \u001b[0mself\u001b[0m\u001b[0;34m.\u001b[0m\u001b[0m_make_engine\u001b[0m\u001b[0;34m(\u001b[0m\u001b[0mself\u001b[0m\u001b[0;34m.\u001b[0m\u001b[0mengine\u001b[0m\u001b[0;34m)\u001b[0m\u001b[0;34m\u001b[0m\u001b[0;34m\u001b[0m\u001b[0m\n\u001b[0m\u001b[1;32m    947\u001b[0m \u001b[0;34m\u001b[0m\u001b[0m\n\u001b[1;32m    948\u001b[0m     \u001b[0;32mdef\u001b[0m \u001b[0mclose\u001b[0m\u001b[0;34m(\u001b[0m\u001b[0mself\u001b[0m\u001b[0;34m)\u001b[0m\u001b[0;34m:\u001b[0m\u001b[0;34m\u001b[0m\u001b[0;34m\u001b[0m\u001b[0m\n",
      "\u001b[0;32m~/opt/anaconda3/lib/python3.8/site-packages/pandas/io/parsers.py\u001b[0m in \u001b[0;36m_make_engine\u001b[0;34m(self, engine)\u001b[0m\n\u001b[1;32m   1176\u001b[0m     \u001b[0;32mdef\u001b[0m \u001b[0m_make_engine\u001b[0m\u001b[0;34m(\u001b[0m\u001b[0mself\u001b[0m\u001b[0;34m,\u001b[0m \u001b[0mengine\u001b[0m\u001b[0;34m=\u001b[0m\u001b[0;34m\"c\"\u001b[0m\u001b[0;34m)\u001b[0m\u001b[0;34m:\u001b[0m\u001b[0;34m\u001b[0m\u001b[0;34m\u001b[0m\u001b[0m\n\u001b[1;32m   1177\u001b[0m         \u001b[0;32mif\u001b[0m \u001b[0mengine\u001b[0m \u001b[0;34m==\u001b[0m \u001b[0;34m\"c\"\u001b[0m\u001b[0;34m:\u001b[0m\u001b[0;34m\u001b[0m\u001b[0;34m\u001b[0m\u001b[0m\n\u001b[0;32m-> 1178\u001b[0;31m             \u001b[0mself\u001b[0m\u001b[0;34m.\u001b[0m\u001b[0m_engine\u001b[0m \u001b[0;34m=\u001b[0m \u001b[0mCParserWrapper\u001b[0m\u001b[0;34m(\u001b[0m\u001b[0mself\u001b[0m\u001b[0;34m.\u001b[0m\u001b[0mf\u001b[0m\u001b[0;34m,\u001b[0m \u001b[0;34m**\u001b[0m\u001b[0mself\u001b[0m\u001b[0;34m.\u001b[0m\u001b[0moptions\u001b[0m\u001b[0;34m)\u001b[0m\u001b[0;34m\u001b[0m\u001b[0;34m\u001b[0m\u001b[0m\n\u001b[0m\u001b[1;32m   1179\u001b[0m         \u001b[0;32melse\u001b[0m\u001b[0;34m:\u001b[0m\u001b[0;34m\u001b[0m\u001b[0;34m\u001b[0m\u001b[0m\n\u001b[1;32m   1180\u001b[0m             \u001b[0;32mif\u001b[0m \u001b[0mengine\u001b[0m \u001b[0;34m==\u001b[0m \u001b[0;34m\"python\"\u001b[0m\u001b[0;34m:\u001b[0m\u001b[0;34m\u001b[0m\u001b[0;34m\u001b[0m\u001b[0m\n",
      "\u001b[0;32m~/opt/anaconda3/lib/python3.8/site-packages/pandas/io/parsers.py\u001b[0m in \u001b[0;36m__init__\u001b[0;34m(self, src, **kwds)\u001b[0m\n\u001b[1;32m   2006\u001b[0m         \u001b[0mkwds\u001b[0m\u001b[0;34m[\u001b[0m\u001b[0;34m\"usecols\"\u001b[0m\u001b[0;34m]\u001b[0m \u001b[0;34m=\u001b[0m \u001b[0mself\u001b[0m\u001b[0;34m.\u001b[0m\u001b[0musecols\u001b[0m\u001b[0;34m\u001b[0m\u001b[0;34m\u001b[0m\u001b[0m\n\u001b[1;32m   2007\u001b[0m \u001b[0;34m\u001b[0m\u001b[0m\n\u001b[0;32m-> 2008\u001b[0;31m         \u001b[0mself\u001b[0m\u001b[0;34m.\u001b[0m\u001b[0m_reader\u001b[0m \u001b[0;34m=\u001b[0m \u001b[0mparsers\u001b[0m\u001b[0;34m.\u001b[0m\u001b[0mTextReader\u001b[0m\u001b[0;34m(\u001b[0m\u001b[0msrc\u001b[0m\u001b[0;34m,\u001b[0m \u001b[0;34m**\u001b[0m\u001b[0mkwds\u001b[0m\u001b[0;34m)\u001b[0m\u001b[0;34m\u001b[0m\u001b[0;34m\u001b[0m\u001b[0m\n\u001b[0m\u001b[1;32m   2009\u001b[0m         \u001b[0mself\u001b[0m\u001b[0;34m.\u001b[0m\u001b[0munnamed_cols\u001b[0m \u001b[0;34m=\u001b[0m \u001b[0mself\u001b[0m\u001b[0;34m.\u001b[0m\u001b[0m_reader\u001b[0m\u001b[0;34m.\u001b[0m\u001b[0munnamed_cols\u001b[0m\u001b[0;34m\u001b[0m\u001b[0;34m\u001b[0m\u001b[0m\n\u001b[1;32m   2010\u001b[0m \u001b[0;34m\u001b[0m\u001b[0m\n",
      "\u001b[0;32mpandas/_libs/parsers.pyx\u001b[0m in \u001b[0;36mpandas._libs.parsers.TextReader.__cinit__\u001b[0;34m()\u001b[0m\n",
      "\u001b[0;32mpandas/_libs/parsers.pyx\u001b[0m in \u001b[0;36mpandas._libs.parsers.TextReader._setup_parser_source\u001b[0;34m()\u001b[0m\n",
      "\u001b[0;31mFileNotFoundError\u001b[0m: [Errno 2] No such file or directory: './water_potability.csv'"
     ]
    }
   ],
   "source": [
    "# original site for data https://www.kaggle.com/adityakadiwal/water-potability\n",
    "#import the csv file of data, assign it to a variable: water_potability_data\n",
    "water_data = pd.read_csv('./water_potability.csv')"
   ]
  },
  {
   "cell_type": "code",
   "execution_count": null,
   "metadata": {},
   "outputs": [],
   "source": []
  },
  {
   "cell_type": "code",
   "execution_count": 7,
   "metadata": {},
   "outputs": [
    {
     "ename": "NameError",
     "evalue": "name 'water_data' is not defined",
     "output_type": "error",
     "traceback": [
      "\u001b[0;31m---------------------------------------------------------------------------\u001b[0m",
      "\u001b[0;31mNameError\u001b[0m                                 Traceback (most recent call last)",
      "\u001b[0;32m<ipython-input-7-abc03919bee8>\u001b[0m in \u001b[0;36m<module>\u001b[0;34m\u001b[0m\n\u001b[1;32m      1\u001b[0m \u001b[0;31m#Call the info() method to get a summary of the data\u001b[0m\u001b[0;34m\u001b[0m\u001b[0;34m\u001b[0m\u001b[0;34m\u001b[0m\u001b[0m\n\u001b[0;32m----> 2\u001b[0;31m \u001b[0mwater_data\u001b[0m\u001b[0;34m.\u001b[0m\u001b[0minfo\u001b[0m\u001b[0;34m(\u001b[0m\u001b[0;34m)\u001b[0m\u001b[0;34m\u001b[0m\u001b[0;34m\u001b[0m\u001b[0m\n\u001b[0m",
      "\u001b[0;31mNameError\u001b[0m: name 'water_data' is not defined"
     ]
    }
   ],
   "source": [
    "#Call the info() method to get a summary of the data\n",
    "water_data.info()"
   ]
  },
  {
   "cell_type": "code",
   "execution_count": 8,
   "metadata": {},
   "outputs": [
    {
     "ename": "NameError",
     "evalue": "name 'water_data' is not defined",
     "output_type": "error",
     "traceback": [
      "\u001b[0;31m---------------------------------------------------------------------------\u001b[0m",
      "\u001b[0;31mNameError\u001b[0m                                 Traceback (most recent call last)",
      "\u001b[0;32m<ipython-input-8-ca90d6cdbc10>\u001b[0m in \u001b[0;36m<module>\u001b[0;34m\u001b[0m\n\u001b[1;32m      1\u001b[0m \u001b[0;31m#Call the head() method to see if the data looks organized, correct column names etc\u001b[0m\u001b[0;34m\u001b[0m\u001b[0;34m\u001b[0m\u001b[0;34m\u001b[0m\u001b[0m\n\u001b[0;32m----> 2\u001b[0;31m \u001b[0mwater_data\u001b[0m\u001b[0;34m.\u001b[0m\u001b[0mhead\u001b[0m\u001b[0;34m(\u001b[0m\u001b[0;34m)\u001b[0m\u001b[0;34m\u001b[0m\u001b[0;34m\u001b[0m\u001b[0m\n\u001b[0m",
      "\u001b[0;31mNameError\u001b[0m: name 'water_data' is not defined"
     ]
    }
   ],
   "source": [
    "#Call the head() method to see if the data looks organized, correct column names etc\n",
    "water_data.head()"
   ]
  },
  {
   "cell_type": "code",
   "execution_count": 9,
   "metadata": {},
   "outputs": [
    {
     "ename": "NameError",
     "evalue": "name 'water_data' is not defined",
     "output_type": "error",
     "traceback": [
      "\u001b[0;31m---------------------------------------------------------------------------\u001b[0m",
      "\u001b[0;31mNameError\u001b[0m                                 Traceback (most recent call last)",
      "\u001b[0;32m<ipython-input-9-379c5c89c11f>\u001b[0m in \u001b[0;36m<module>\u001b[0;34m\u001b[0m\n\u001b[1;32m      3\u001b[0m \u001b[0;31m#Put them in order using sort_values\u001b[0m\u001b[0;34m\u001b[0m\u001b[0;34m\u001b[0m\u001b[0;34m\u001b[0m\u001b[0m\n\u001b[1;32m      4\u001b[0m \u001b[0;31m#Call `pd.concat` to present these in a single table (DataFrame) with the helpful column names 'count' and '%'=\u001b[0m\u001b[0;34m\u001b[0m\u001b[0;34m\u001b[0m\u001b[0;34m\u001b[0m\u001b[0m\n\u001b[0;32m----> 5\u001b[0;31m \u001b[0mmissing\u001b[0m \u001b[0;34m=\u001b[0m \u001b[0mpd\u001b[0m\u001b[0;34m.\u001b[0m\u001b[0mconcat\u001b[0m\u001b[0;34m(\u001b[0m\u001b[0;34m[\u001b[0m\u001b[0mwater_data\u001b[0m\u001b[0;34m.\u001b[0m\u001b[0misnull\u001b[0m\u001b[0;34m(\u001b[0m\u001b[0;34m)\u001b[0m\u001b[0;34m.\u001b[0m\u001b[0msum\u001b[0m\u001b[0;34m(\u001b[0m\u001b[0;34m)\u001b[0m\u001b[0;34m,\u001b[0m \u001b[0;36m100\u001b[0m \u001b[0;34m*\u001b[0m \u001b[0mwater_data\u001b[0m\u001b[0;34m.\u001b[0m\u001b[0misnull\u001b[0m\u001b[0;34m(\u001b[0m\u001b[0;34m)\u001b[0m\u001b[0;34m.\u001b[0m\u001b[0mmean\u001b[0m\u001b[0;34m(\u001b[0m\u001b[0;34m)\u001b[0m\u001b[0;34m]\u001b[0m\u001b[0;34m,\u001b[0m \u001b[0maxis\u001b[0m\u001b[0;34m=\u001b[0m\u001b[0;36m1\u001b[0m\u001b[0;34m)\u001b[0m\u001b[0;34m\u001b[0m\u001b[0;34m\u001b[0m\u001b[0m\n\u001b[0m\u001b[1;32m      6\u001b[0m \u001b[0mmissing\u001b[0m\u001b[0;34m.\u001b[0m\u001b[0mcolumns\u001b[0m\u001b[0;34m=\u001b[0m\u001b[0;34m[\u001b[0m\u001b[0;34m'count'\u001b[0m\u001b[0;34m,\u001b[0m \u001b[0;34m'%'\u001b[0m\u001b[0;34m]\u001b[0m\u001b[0;34m\u001b[0m\u001b[0;34m\u001b[0m\u001b[0m\n\u001b[1;32m      7\u001b[0m \u001b[0mmissing\u001b[0m\u001b[0;34m.\u001b[0m\u001b[0msort_values\u001b[0m\u001b[0;34m(\u001b[0m\u001b[0mby\u001b[0m\u001b[0;34m=\u001b[0m\u001b[0;34m'%'\u001b[0m\u001b[0;34m,\u001b[0m \u001b[0mascending\u001b[0m\u001b[0;34m=\u001b[0m\u001b[0;32mFalse\u001b[0m\u001b[0;34m)\u001b[0m\u001b[0;34m\u001b[0m\u001b[0;34m\u001b[0m\u001b[0m\n",
      "\u001b[0;31mNameError\u001b[0m: name 'water_data' is not defined"
     ]
    }
   ],
   "source": [
    "#Use .sum() to count the number of missing values (using .isnull()) in each column\n",
    "#as well as the percentages (using `.mean()` instead of `.sum()`).\n",
    "#Put them in order using sort_values\n",
    "#Call `pd.concat` to present these in a single table (DataFrame) with the helpful column names 'count' and '%'=\n",
    "missing = pd.concat([water_data.isnull().sum(), 100 * water_data.isnull().mean()], axis=1)\n",
    "missing.columns=['count', '%']\n",
    "missing.sort_values(by='%', ascending=False)"
   ]
  },
  {
   "cell_type": "code",
   "execution_count": 10,
   "metadata": {},
   "outputs": [],
   "source": [
    "#Add a new column with a unique numerical or lettered identifier \n",
    "#for each row of data, so they can be sorted by and referred to by those row 'names'\n",
    "\n",
    "#Also, rename any columns you need to? Probably makes things more complex, just use these names when you want to graph\n",
    "#Chloramines(ppm), Solids(ppm), Organic Carbon(ppm), Turbidity(NTU), Potability(yes(1)/no(0)), Trihalomethanes(mcg/L), Hardness(mg/L)"
   ]
  },
  {
   "cell_type": "code",
   "execution_count": 11,
   "metadata": {},
   "outputs": [],
   "source": [
    "#Determine the unit of measurement for each column variable\n",
    "#(is it in mols, mmols, parts per million(ppm), grams, micrograms, etc?)\n",
    "#Then convert each one to whatever unit of measurement you would like, and reassign the table names (aka change\n",
    "#sulfates to 'sulfates(mols)' or hardness to 'hardness(CaCO3 ppm)'')\n",
    "#From  \n",
    "#\"The hardness of water is determined by the milligrams of calcium carbonateper litre and is reported \n",
    "#it in parts-per-million (ppm). In general, water with less than 60 ppm can be considered soft, \n",
    "#water with 60-120 ppm moderately hard, and water with greater than 120 ppm hard. For reference, \n",
    "#Montreal’s water is typically around 116 ppm, or moderately hard, and sea water’s hardness is approximately \n",
    "#6,630 ppm since it contains many dissolved salts (depending on the sea, of course).\""
   ]
  },
  {
   "cell_type": "code",
   "execution_count": 12,
   "metadata": {},
   "outputs": [
    {
     "ename": "SyntaxError",
     "evalue": "invalid syntax (<ipython-input-12-0738985c2bad>, line 11)",
     "output_type": "error",
     "traceback": [
      "\u001b[0;36m  File \u001b[0;32m\"<ipython-input-12-0738985c2bad>\"\u001b[0;36m, line \u001b[0;32m11\u001b[0m\n\u001b[0;31m    Sulfates_dict = {(Mean:), (Min:), (Max:), (Range:), (s2:), (s:), (IQR:), (Q1:), (Q2:)}\u001b[0m\n\u001b[0m                  ^\u001b[0m\n\u001b[0;31mSyntaxError\u001b[0m\u001b[0;31m:\u001b[0m invalid syntax\n"
     ]
    }
   ],
   "source": [
    "#Remove NaN values when necessary:\n",
    "###_______\n",
    "\n",
    "#Find summary statistics for all relevant columns,incl./ 5 number summary, Min, Max, IQR, Range, \n",
    "#Mean, Median, Mode, Variance, Std. Dev. \n",
    "#Write a function for median, Q1, Q2, Q3\n",
    "#water_data.describe().T\n",
    "\n",
    "#assign those results to variables like: \n",
    "Water_Data_Summary_Stats = {\n",
    "Sulfates_dict = {(Mean:), (Min:), (Max:), (Range:), (s2:), (s:), (IQR:), (Q1:), (Q2:)}\n",
    "Hardness_dict = \n",
    "pH_dict = \n",
    "Trihalomethanes_dict =\n",
    "Chloramines_dict = \n",
    "Solids_dict =\n",
    "Organic_Carbon_dict =\n",
    "Turbidity_dict = \n",
    "Conductivity_dict =\n",
    "Potability_dict = \n",
    "}"
   ]
  },
  {
   "cell_type": "code",
   "execution_count": 13,
   "metadata": {},
   "outputs": [],
   "source": [
    "#Construct Boxplots and using the 5 number summaries, then use the Q1-(IQR*1.5) and Q#+(IQR*1.5) outliers rule.\n",
    "#You may need to look at Tasks 14-15 in DataWranglingCapstone1 in order to structure the data correctly for a boxplot\n",
    "\n",
    "#This is how you made your boxplot in Capstone 1:\n",
    "\n",
    "#Code task 16#\n",
    "#Create a seaborn boxplot of the ticket price dataframe we created above,\n",
    "#with 'state' on the x-axis, 'Price' as the y-value, and a hue that indicates 'Ticket'\n",
    "#This will use boxplot's x, y, hue, and data arguments.\n",
    "\n",
    "# plt.subplots(figsize=(12, 8))\n",
    "# sns.boxplot(x='state', y='Price', hue='Ticket', data=ticket_prices)\n",
    "# plt.xticks(rotation='vertical')\n",
    "# plt.ylabel('Price ($)')\n",
    "# plt.xlabel('State');\n",
    "\n",
    "#This step could wait until IN[14] or IN[15] are done, because then you could use variables like \n",
    "#Low_Conductivity, Mid_Conductivity, High_Conductivity instead of the states on the X-AXIS, since obviously you \n",
    "#don't have any demographic or geographic data abou the samples you obtained. \n",
    "\n",
    "#And 'Ticket' could be replaced with any variable you want to compare like \n",
    "#'Mean_Sulfates' or 'Mean_Chloramines' for the HUE (convert those into one column like in task 15 of the Capstone 1)\n",
    "\n",
    "#and something like \"Hardness\" or 'Mean_Conductivity' could be used for the Y AXIS"
   ]
  },
  {
   "cell_type": "code",
   "execution_count": 14,
   "metadata": {},
   "outputs": [],
   "source": [
    "##Assign outlier exclusion variables (with names like sulfates_no_outliers, mean_sulfates_no_outliers)\n",
    "\n",
    "#Determine the proportion of outliers, find which rows have multiple outliers, \n",
    "#1 examine those to determine data entry errors, \n",
    "#2 decide whether or not to exclude these entire rows from analysis if they contain multiple outliers - \n",
    "#this could indicate that other scores in those rows that are not outliers may be unreliable for some reason?"
   ]
  },
  {
   "cell_type": "code",
   "execution_count": 15,
   "metadata": {},
   "outputs": [],
   "source": [
    "#Create method for pearson correlation\n",
    "#Find pearson correlations\n",
    "#Make a graph of that\n",
    "\n",
    "#Use that to make decisions about primary relationships to explore"
   ]
  },
  {
   "cell_type": "code",
   "execution_count": 16,
   "metadata": {},
   "outputs": [
    {
     "ename": "SyntaxError",
     "evalue": "invalid syntax (<ipython-input-16-4205a8b49920>, line 17)",
     "output_type": "error",
     "traceback": [
      "\u001b[0;36m  File \u001b[0;32m\"<ipython-input-16-4205a8b49920>\"\u001b[0;36m, line \u001b[0;32m17\u001b[0m\n\u001b[0;31m    Low_Conductivity = {water_data.row('Conductivity' > )}\u001b[0m\n\u001b[0m                                                        ^\u001b[0m\n\u001b[0;31mSyntaxError\u001b[0m\u001b[0;31m:\u001b[0m invalid syntax\n"
     ]
    }
   ],
   "source": [
    "#Assign certain rows based on water measurements \n",
    "#(i.e., create a way to classify certain samples by levels of conductivity, hardness, sulfates etc)\n",
    "\n",
    "#Code task #27 in first cpastone may be good resource here\n",
    "\n",
    "#example would be all sample rows with > or = a level of conductivity will be called Highly_Conductive_Samples\n",
    "#and that could be structured as a list, dictionary, or nested dictionary of either: the row identifiers, \n",
    "#the row identifiers and their corresponding conductivity measurements, \n",
    "#or the row identifiers and all other values in the other columns\n",
    "\n",
    "#What is the rule? will it be standard deviation/percentile according to the \"Empirical Rule\", \n",
    "\n",
    "#(will we use use z-scores, proportions, percentiles, std deviations, or raw numbers related to any of these?)\n",
    "#or according to \"Chebyshev's Theorem\"? Or just the top third, bottom third, middle third?\n",
    "\n",
    "Low_Conductivity = {}\n",
    "Low_Conductivity = {water_data.row('Conductivity' > )}\n",
    "\n",
    "#Low, Mid, High Conductivity\n",
    "#Low, Mid, High Hardness\n",
    "#Low, Mid, High Solids\n",
    "#Low, Mid, High Sulfates\n",
    "#Low, Mid, High Chloramines\n",
    "#Low, Mid, High Organic Carbon\n",
    "#Low, Mid, High Trihalomethanes\n",
    "#Low, Mid, High Turbidity\n",
    "#Low, Mid, High Solids\n",
    "\n",
    "#Do we want variables for the means of each and every one of these? Or just the middle? or just high or low?"
   ]
  },
  {
   "cell_type": "code",
   "execution_count": 17,
   "metadata": {},
   "outputs": [],
   "source": [
    "#Use these classifiers to create indices and histograms or other visuals that find for example, the average \n",
    "#level of Chloramines in Highly_Conductive_samples, \n",
    "#or the average level of Chloramines and average level of organic carbons in Highly_Conductive_Samples\n",
    "#Whatever is the most interesting"
   ]
  },
  {
   "cell_type": "code",
   "execution_count": null,
   "metadata": {},
   "outputs": [],
   "source": [
    "#Maybe Boxplots will be done after these steps"
   ]
  },
  {
   "cell_type": "code",
   "execution_count": null,
   "metadata": {},
   "outputs": [],
   "source": [
    "###\n",
    "#Call water_data's `describe` method for a five-number stat summary(plus M, S) of the quantitiave columns\n",
    "#Use the transpose feature so this yields a table without all the extra columns in the original data table\n",
    "#See task 17 of Capstone 1\n",
    "\n",
    "# water_data['ph'].describe().T\n",
    "# ph_dict = dict(water_data['ph'].describe().T)\n",
    "# print(ph_dict)\n",
    "water_data_col_dict = {}\n",
    "water_data_col_list = list(water_data[:0])\n",
    "for column in water_data_col_list:\n",
    "    #make column the key in the first layer of the nested dictionary\n",
    "    dict(water_data[column].describe())\n",
    "    #make the value of the first layer of the nested dictionary the summary stats\n",
    "    #sumaarydict = {colname:{statname:statistic, statname2:statistic2}}\n",
    "#pH s/b\n",
    "\n",
    "dict = {'phdict':dict(water_data['ph'].describe())}"
   ]
  },
  {
   "cell_type": "code",
   "execution_count": 3,
   "metadata": {},
   "outputs": [
    {
     "ename": "NameError",
     "evalue": "name 'water_data' is not defined",
     "output_type": "error",
     "traceback": [
      "\u001b[0;31m---------------------------------------------------------------------------\u001b[0m",
      "\u001b[0;31mNameError\u001b[0m                                 Traceback (most recent call last)",
      "\u001b[0;32m<ipython-input-3-918942d952e8>\u001b[0m in \u001b[0;36m<module>\u001b[0;34m\u001b[0m\n\u001b[1;32m      1\u001b[0m \u001b[0;31m#Plot Histograms of primary variables using the .hist() method\u001b[0m\u001b[0;34m\u001b[0m\u001b[0;34m\u001b[0m\u001b[0;34m\u001b[0m\u001b[0m\n\u001b[1;32m      2\u001b[0m \u001b[0;34m\u001b[0m\u001b[0m\n\u001b[0;32m----> 3\u001b[0;31m \u001b[0mwater_data\u001b[0m\u001b[0;34m.\u001b[0m\u001b[0mhist\u001b[0m\u001b[0;34m(\u001b[0m\u001b[0mfigsize\u001b[0m\u001b[0;34m=\u001b[0m\u001b[0;34m(\u001b[0m\u001b[0;36m15\u001b[0m\u001b[0;34m,\u001b[0m\u001b[0;36m10\u001b[0m\u001b[0;34m)\u001b[0m\u001b[0;34m)\u001b[0m\u001b[0;34m\u001b[0m\u001b[0;34m\u001b[0m\u001b[0m\n\u001b[0m\u001b[1;32m      4\u001b[0m \u001b[0mplt\u001b[0m\u001b[0;34m.\u001b[0m\u001b[0msubplots_adjust\u001b[0m\u001b[0;34m(\u001b[0m\u001b[0mhspace\u001b[0m\u001b[0;34m=\u001b[0m\u001b[0;36m0.5\u001b[0m\u001b[0;34m)\u001b[0m\u001b[0;34m;\u001b[0m\u001b[0;34m\u001b[0m\u001b[0;34m\u001b[0m\u001b[0m\n\u001b[1;32m      5\u001b[0m \u001b[0;34m\u001b[0m\u001b[0m\n",
      "\u001b[0;31mNameError\u001b[0m: name 'water_data' is not defined"
     ]
    }
   ],
   "source": [
    "#Plot Histograms of primary variables using the .hist() method\n",
    "\n",
    "water_data.hist(figsize=(15,10))\n",
    "plt.subplots_adjust(hspace=0.5);\n",
    "\n",
    "#What columns are normally distributed, What columns are not?\n",
    "#pH looks roughly normal, hardness too, solids is somewhat right-skewed, perhaps still normal (need Chebyshev or Gaussian),\n",
    "#everything but Potability looks normal, bc potability is a binary scoring system, where the water either is or is not potable\n",
    "\n",
    "#If we decide to plot variables with outlier in or out, does that change the distributions much or not much?\n",
    "#What, if anything, does that tell us about how necessary it is to exclude outlier from certain variables?\n"
   ]
  },
  {
   "cell_type": "code",
   "execution_count": 4,
   "metadata": {},
   "outputs": [],
   "source": [
    "#PLot histograms for secondary variables:\n",
    "\n",
    "#Can you create histograms for the new variables you created? Like plotting the distribution of \n",
    "#Highly_Conductive_Samples, or Mid_Conductive_Samples? What will that tell us about the distribution of that data?\n",
    "\n",
    "#What will that tell us about the distribution of all data in all columns for the samples(rows) that are \n",
    "#highly conductive? \n",
    "\n",
    "#Are they more or less normal than the rest of the greater dataset? Why might that be? Does that mean more \n",
    "#or less conductive samples should be excluded from certain kinds of analysis? \n",
    "\n",
    "#Should other types of analysis be used? Could an ANOVA find differences between and \n",
    "#within our sample sub-groups with three or more categories like high, mid or low sulfates, chloramides, etc?"
   ]
  },
  {
   "cell_type": "code",
   "execution_count": null,
   "metadata": {},
   "outputs": [],
   "source": [
    "#Since Potability is binary, can we use one of the secondary variables to strongly predict \n",
    "#whether it will be 1 or 0? Like is High Conductivity a better predictor of non-potability, or is high sulfates, or high hardness?\n",
    "#Would this be a Pearson?|"
   ]
  },
  {
   "cell_type": "code",
   "execution_count": null,
   "metadata": {},
   "outputs": [],
   "source": [
    "#What are the rules according to WHO:\n",
    "    #\n",
    "# Access to safe drinking-water is essential to health, a basic human right and a \n",
    "# component of effective policy for health protection. This is important as a health \n",
    "# and development issue at a national, regional and local level. In some regions, \n",
    "# it has been shown that investments in water supply and sanitation can yield a net \n",
    "# economic benefit, since the reductions in adverse health effects and health care \n",
    "# costs outweigh the costs of undertaking the interventions.\n",
    "\n",
    "\n",
    "# The water_potability.csv file contains water quality metrics for 3276 different water bodies.\n",
    "\n",
    "# 1. pH value:\n",
    "\n",
    "# PH is an important parameter in evaluating the acid–base balance of water. \n",
    "# It is also the indicator of acidic or alkaline condition of water status. \n",
    "# WHO has recommended maximum permissible limit of pH from 6.5 to 8.5. \n",
    "\n",
    "# The current investigation ranges were 6.52–6.83 which are in the range of WHO standards.\n",
    "\n",
    "# 2. Hardness:\n",
    "# water with less than 60 mg/L of calcium carbonate is considered soft, \n",
    "#61-120 mg/L is moderately hard, 121-180 mg/L is hard, \n",
    "#and above 180 mg/L is deemed very hard.\n",
    "#- according to US Dept. of the Interior\n",
    "\n",
    "# 3. Solids (Total dissolved solids - TDS):\n",
    "# Desirable limit for TDS is 500 mg/l and maximum limit is 1000 mg/l which prescribed \n",
    "# for drinking purpose.\n",
    "# print(value_count\n",
    "water_data.Solids.describe()\n",
    "\n",
    "# 4. Chloramines:\n",
    "# Chlorine levels up to 4 milligrams per liter (mg/L or 4 parts per million (ppm)) are \n",
    "# considered safe in drinking water.\n",
    "\n",
    "# 5. Sulfate:\n",
    " \n",
    "# Sulfate concentration in seawater is about 2,700 milligrams per liter (mg/L). \n",
    "# It ranges from 3 to 30 mg/L in most freshwater supplies, although much higher \n",
    "# concentrations (1000 mg/L) are found in some geographic locations.\n",
    "\n",
    "# 6. Conductivity:\n",
    "\n",
    "# According to WHO standards, EC value should not exceeded 400 μS/cm.\n",
    "\n",
    "# 7. Organic_carbon:\n",
    "\n",
    "# Total Organic Carbon. TOC is a measure of the total amount of carbon in organic \n",
    "# compounds in pure water. According to US EPA < 2 mg/L as TOC in treated / drinking water, \n",
    "# and < 4 mg/Lit in source water which is use for treatment.\n",
    "\n",
    "# 8. Trihalomethanes:\n",
    "\n",
    "# THMs are chemicals which may be found in water treated with chlorine. \n",
    "# THM levels up to 80 ppm is considered safe in drinking water.\n",
    "\n",
    "# 9. Turbidity:\n",
    "\n",
    "# The turbidity of water depends on the quantity of solid matter present in the \n",
    "# suspended state. It is a measure of light emitting properties of water \n",
    "# WHO recommended value of 5.00 NTU.\n",
    "\n",
    "# 10. Potability:\n",
    "\n",
    "# Indicates if water is safe for human consumption where 1 means Potable and 0 means \n",
    "# Not potable."
   ]
  },
  {
   "cell_type": "code",
   "execution_count": null,
   "metadata": {},
   "outputs": [],
   "source": []
  }
 ],
 "metadata": {
  "kernelspec": {
   "display_name": "Python 3",
   "language": "python",
   "name": "python3"
  },
  "language_info": {
   "codemirror_mode": {
    "name": "ipython",
    "version": 3
   },
   "file_extension": ".py",
   "mimetype": "text/x-python",
   "name": "python",
   "nbconvert_exporter": "python",
   "pygments_lexer": "ipython3",
   "version": "3.8.5"
  }
 },
 "nbformat": 4,
 "nbformat_minor": 4
}
